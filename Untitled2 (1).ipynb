{
 "cells": [
  {
   "cell_type": "code",
   "execution_count": 1,
   "id": "b5f63ad2-1fb7-4044-99c2-669e0b20ade5",
   "metadata": {},
   "outputs": [],
   "source": [
    "#In Python, an exception is a runtime error that occurs during the execution of a program. It disrupts the normal flow of the program's instructions. Exceptions are typically caused by errors in the code, such as dividing by zero or trying to access an index that doesn't exist.\n",
    "\n",
    "#The main difference between exceptions and syntax errors is the time at which they occur. Syntax errors are detected by the Python interpreter during the parsing phase, while exceptions are runtime errors that occur during the execution of the program."
   ]
  },
  {
   "cell_type": "code",
   "execution_count": 2,
   "id": "1e7b1fe0-fef8-4308-a53e-8e9259a9d87f",
   "metadata": {},
   "outputs": [
    {
     "name": "stdout",
     "output_type": "stream",
     "text": [
      "Error: division by zero\n"
     ]
    }
   ],
   "source": [
    "#When an exception is not handled, it propagates up the call stack until it either encounters a suitable exception handler or reaches the top-level of the program. If no handler is found, the program terminates, and an error message is displayed.\n",
    "def divide(x, y):\n",
    "    result = x / y\n",
    "\n",
    "try:\n",
    "    divide(5, 0)\n",
    "except ZeroDivisionError as e:\n",
    "    print(f\"Error: {e}\")\n"
   ]
  },
  {
   "cell_type": "code",
   "execution_count": 3,
   "id": "f8524f3c-5199-4195-a209-67ecf17c0a85",
   "metadata": {},
   "outputs": [
    {
     "name": "stdout",
     "output_type": "stream",
     "text": [
      "Error: division by zero\n",
      "This block always executes.\n"
     ]
    }
   ],
   "source": [
    "#The try, except, else, and finally statements are used to handle exceptions in Python.\n",
    "try:\n",
    "    \n",
    "    result = 10 / 0\n",
    "except ZeroDivisionError as e:\n",
    "    print(f\"Error: {e}\")\n",
    "else:\n",
    "    print(\"No exception occurred.\")\n",
    "finally:\n",
    "    print(\"This block always executes.\")\n"
   ]
  },
  {
   "cell_type": "code",
   "execution_count": 4,
   "id": "3563e5b9-c661-4901-9875-9162c6ba619a",
   "metadata": {},
   "outputs": [
    {
     "name": "stdout",
     "output_type": "stream",
     "text": [
      "The result is: 5.0\n",
      "This block always executes, whether an exception occurred or not.\n"
     ]
    }
   ],
   "source": [
    "try:\n",
    "    \n",
    "    result = 10 / 2\n",
    "except ZeroDivisionError as e:\n",
    "    print(f\"Error: {e}\")\n",
    "else:\n",
    "    print(f\"The result is: {result}\")\n",
    "finally:\n",
    "    print(\"This block always executes, whether an exception occurred or not.\")\n",
    "    \n",
    "\n",
    "\n",
    "if result % 2 == 0:\n",
    "    raise ValueError(\"Even result is not allowed.\")\n"
   ]
  },
  {
   "cell_type": "code",
   "execution_count": null,
   "id": "d2d80066-e2f6-489c-820e-7d09571f6bc2",
   "metadata": {},
   "outputs": [],
   "source": []
  }
 ],
 "metadata": {
  "kernelspec": {
   "display_name": "Python 3 (ipykernel)",
   "language": "python",
   "name": "python3"
  },
  "language_info": {
   "codemirror_mode": {
    "name": "ipython",
    "version": 3
   },
   "file_extension": ".py",
   "mimetype": "text/x-python",
   "name": "python",
   "nbconvert_exporter": "python",
   "pygments_lexer": "ipython3",
   "version": "3.10.8"
  }
 },
 "nbformat": 4,
 "nbformat_minor": 5
}
